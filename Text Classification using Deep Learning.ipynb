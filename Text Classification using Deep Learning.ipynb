{
 "cells": [
  {
   "cell_type": "code",
   "execution_count": 1,
   "id": "325623f9",
   "metadata": {},
   "outputs": [],
   "source": [
    "from __future__ import absolute_import\n",
    "from __future__ import division\n",
    "from __future__ import print_function"
   ]
  },
  {
   "cell_type": "code",
   "execution_count": 3,
   "id": "f5a3534b",
   "metadata": {},
   "outputs": [
    {
     "name": "stdout",
     "output_type": "stream",
     "text": [
      "You have tensorflow version 2.14.0\n"
     ]
    }
   ],
   "source": [
    "import itertools\n",
    "import os\n",
    "\n",
    "%matplotlib inline\n",
    "import matplotlib.pyplot as plt\n",
    "import numpy as np\n",
    "import pandas as pd\n",
    "import tensorflow as tf\n",
    "\n",
    "from sklearn.preprocessing import LabelBinarizer, LabelEncoder\n",
    "from sklearn.metrics import confusion_matrix\n",
    "\n",
    "from tensorflow import keras\n",
    "from keras.models import Sequential\n",
    "from keras.layers import Dense, Activation, Dropout\n",
    "from keras.preprocessing import text, sequence\n",
    "from keras import utils\n",
    "\n",
    "print(\"You have tensorflow version\", tf.__version__)"
   ]
  },
  {
   "cell_type": "code",
   "execution_count": 9,
   "id": "bce1f41b",
   "metadata": {},
   "outputs": [
    {
     "data": {
      "text/html": [
       "<div>\n",
       "<style scoped>\n",
       "    .dataframe tbody tr th:only-of-type {\n",
       "        vertical-align: middle;\n",
       "    }\n",
       "\n",
       "    .dataframe tbody tr th {\n",
       "        vertical-align: top;\n",
       "    }\n",
       "\n",
       "    .dataframe thead th {\n",
       "        text-align: right;\n",
       "    }\n",
       "</style>\n",
       "<table border=\"1\" class=\"dataframe\">\n",
       "  <thead>\n",
       "    <tr style=\"text-align: right;\">\n",
       "      <th></th>\n",
       "      <th>Unnamed: 0</th>\n",
       "      <th>product</th>\n",
       "      <th>narrative</th>\n",
       "    </tr>\n",
       "  </thead>\n",
       "  <tbody>\n",
       "    <tr>\n",
       "      <th>0</th>\n",
       "      <td>0</td>\n",
       "      <td>credit_card</td>\n",
       "      <td>purchase order day shipping amount receive pro...</td>\n",
       "    </tr>\n",
       "    <tr>\n",
       "      <th>1</th>\n",
       "      <td>1</td>\n",
       "      <td>credit_card</td>\n",
       "      <td>forwarded message date tue subject please inve...</td>\n",
       "    </tr>\n",
       "    <tr>\n",
       "      <th>2</th>\n",
       "      <td>2</td>\n",
       "      <td>retail_banking</td>\n",
       "      <td>forwarded message cc sent friday pdt subject f...</td>\n",
       "    </tr>\n",
       "    <tr>\n",
       "      <th>3</th>\n",
       "      <td>3</td>\n",
       "      <td>credit_reporting</td>\n",
       "      <td>payment history missing credit report speciali...</td>\n",
       "    </tr>\n",
       "    <tr>\n",
       "      <th>4</th>\n",
       "      <td>4</td>\n",
       "      <td>credit_reporting</td>\n",
       "      <td>payment history missing credit report made mis...</td>\n",
       "    </tr>\n",
       "  </tbody>\n",
       "</table>\n",
       "</div>"
      ],
      "text/plain": [
       "   Unnamed: 0           product                                          narrative\n",
       "0           0       credit_card  purchase order day shipping amount receive pro...\n",
       "1           1       credit_card  forwarded message date tue subject please inve...\n",
       "2           2    retail_banking  forwarded message cc sent friday pdt subject f...\n",
       "3           3  credit_reporting  payment history missing credit report speciali...\n",
       "4           4  credit_reporting  payment history missing credit report made mis..."
      ]
     },
     "execution_count": 9,
     "metadata": {},
     "output_type": "execute_result"
    }
   ],
   "source": [
    "df = pd.read_csv('customer_complaints.csv', encoding='latin-1')\n",
    "df.dropna(inplace=True)\n",
    "df.head()"
   ]
  },
  {
   "cell_type": "code",
   "execution_count": 5,
   "id": "4df69889",
   "metadata": {},
   "outputs": [
    {
     "data": {
      "text/plain": [
       "array(['credit_card', 'retail_banking', 'credit_reporting',\n",
       "       'mortgages_and_loans', 'debt_collection'], dtype=object)"
      ]
     },
     "execution_count": 5,
     "metadata": {},
     "output_type": "execute_result"
    }
   ],
   "source": [
    "df['product'].nuniqueque()"
   ]
  },
  {
   "cell_type": "code",
   "execution_count": 10,
   "id": "523d52d8",
   "metadata": {},
   "outputs": [
    {
     "data": {
      "text/plain": [
       "0"
      ]
     },
     "execution_count": 10,
     "metadata": {},
     "output_type": "execute_result"
    }
   ],
   "source": [
    "df['narrative'].isnull().sum()"
   ]
  },
  {
   "cell_type": "code",
   "execution_count": 11,
   "id": "dac7ee34",
   "metadata": {},
   "outputs": [
    {
     "data": {
      "text/plain": [
       "credit_reporting       91172\n",
       "debt_collection        23148\n",
       "mortgages_and_loans    18990\n",
       "credit_card            15566\n",
       "retail_banking         13535\n",
       "Name: product, dtype: int64"
      ]
     },
     "execution_count": 11,
     "metadata": {},
     "output_type": "execute_result"
    }
   ],
   "source": [
    "df['product'].value_counts()"
   ]
  },
  {
   "cell_type": "code",
   "execution_count": 12,
   "id": "ddd5f8a5",
   "metadata": {},
   "outputs": [
    {
     "name": "stdout",
     "output_type": "stream",
     "text": [
      "Train size:129928\n",
      "Test size: 32483\n"
     ]
    }
   ],
   "source": [
    "train_size = int(len(df)*.8)\n",
    "print(\"Train size:%d\" % train_size)\n",
    "print(\"Test size: %d\" % (len(df) - train_size))"
   ]
  },
  {
   "cell_type": "code",
   "execution_count": 14,
   "id": "18359d77",
   "metadata": {},
   "outputs": [],
   "source": [
    "train_narrative = df['narrative'][:train_size]\n",
    "train_product = df['product'][:train_size]\n",
    "\n",
    "test_narrative = df['narrative'][train_size:]\n",
    "test_product = df['product'][train_size:]"
   ]
  },
  {
   "cell_type": "code",
   "execution_count": 16,
   "id": "4e83123f",
   "metadata": {},
   "outputs": [],
   "source": [
    "max_word = 1000\n",
    "tokenize = text.Tokenizer(num_words=max_word, char_level=False)\n",
    "\n",
    "tokenize.fit_on_texts(train_narrative)\n",
    "X_train = tokenize.texts_to_matrix(train_narrative)\n",
    "X_test = tokenize.texts_to_matrix(test_narrative)"
   ]
  },
  {
   "cell_type": "code",
   "execution_count": 18,
   "id": "9dd73eb5",
   "metadata": {},
   "outputs": [],
   "source": [
    "# use sklearn utility to convert string to number index\n",
    "encoder = LabelEncoder()\n",
    "encoder.fit(train_product)\n",
    "y_train = encoder.transform(train_product)\n",
    "y_test = encoder.transform(test_product)"
   ]
  },
  {
   "cell_type": "code",
   "execution_count": 19,
   "id": "43fa529c",
   "metadata": {},
   "outputs": [],
   "source": [
    "# convert the labels to a one-hot representation.\n",
    "num_classes = np.max(y_train) + 1\n",
    "y_train = utils.to_categorical(y_train, num_classes)\n",
    "y_test =  utils.to_categorical(y_test, num_classes)"
   ]
  },
  {
   "cell_type": "code",
   "execution_count": 21,
   "id": "1005bc97",
   "metadata": {},
   "outputs": [
    {
     "name": "stdout",
     "output_type": "stream",
     "text": [
      "x train: (129928, 1000)\n",
      "x test: (32483, 1000)\n",
      "y train: (129928, 5)\n",
      "y test: (32483, 5)\n"
     ]
    }
   ],
   "source": [
    "# Insect the dimenstions of our training and test data(this is helpful to debug)\n",
    "print(\"x train:\", X_train.shape)\n",
    "print(\"x test:\", X_test.shape)\n",
    "print(\"y train:\", y_train.shape)\n",
    "print(\"y test:\", y_test.shape)"
   ]
  },
  {
   "cell_type": "code",
   "execution_count": 22,
   "id": "d1b8a0a7",
   "metadata": {},
   "outputs": [],
   "source": [
    "# building model\n",
    "model = Sequential()\n",
    "\n",
    "# add layers(row)\n",
    "model.add(Dense(512, input_shape=(max_word,)))\n",
    "model.add(Activation('relu'))\n",
    "model.add(Dropout(0.5))\n",
    "model.add(Dense(num_classes))\n",
    "model.add(Activation('softmax'))\n",
    "\n",
    "model.compile(loss='categorical_crossentropy',\n",
    "             optimizer='adam',\n",
    "             metrics=['accuracy'])"
   ]
  },
  {
   "cell_type": "code",
   "execution_count": 24,
   "id": "2dd2af27",
   "metadata": {},
   "outputs": [
    {
     "name": "stdout",
     "output_type": "stream",
     "text": [
      "Epoch 1/5\n",
      "3655/3655 [==============================] - 129s 34ms/step - loss: 0.4383 - accuracy: 0.8465 - val_loss: 0.4497 - val_accuracy: 0.8435\n",
      "Epoch 2/5\n",
      "3655/3655 [==============================] - 147s 40ms/step - loss: 0.3454 - accuracy: 0.8784 - val_loss: 0.4444 - val_accuracy: 0.8442\n",
      "Epoch 3/5\n",
      "3655/3655 [==============================] - 163s 45ms/step - loss: 0.2961 - accuracy: 0.8969 - val_loss: 0.4577 - val_accuracy: 0.8438\n",
      "Epoch 4/5\n",
      "3655/3655 [==============================] - 164s 45ms/step - loss: 0.2545 - accuracy: 0.9115 - val_loss: 0.4753 - val_accuracy: 0.8451\n",
      "Epoch 5/5\n",
      "3655/3655 [==============================] - 167s 46ms/step - loss: 0.2208 - accuracy: 0.9244 - val_loss: 0.5030 - val_accuracy: 0.8445\n"
     ]
    }
   ],
   "source": [
    "batch_size = 32\n",
    "epochs = 5\n",
    "\n",
    "history = model.fit(X_train, y_train,\n",
    "                   batch_size = batch_size,\n",
    "                   epochs = epochs,\n",
    "                   verbose= 1,\n",
    "                   validation_split= 0.1)"
   ]
  },
  {
   "cell_type": "code",
   "execution_count": 25,
   "id": "ee860168",
   "metadata": {},
   "outputs": [
    {
     "name": "stdout",
     "output_type": "stream",
     "text": [
      "1016/1016 [==============================] - 12s 12ms/step - loss: 0.4541 - accuracy: 0.8487\n",
      "[0.4541122317314148, 0.8486900925636292]\n",
      "Test score: 0.4541122317314148\n",
      "Test accuracy: 0.8486900925636292\n"
     ]
    }
   ],
   "source": [
    "score = model.evaluate(X_test, y_test,\n",
    "                      batch_size = batch_size, verbose = 1)\n",
    "print(score)\n",
    "print('Test score:', score[0])\n",
    "print('Test accuracy:', score[1])"
   ]
  },
  {
   "cell_type": "code",
   "execution_count": 28,
   "id": "35c9c1a3",
   "metadata": {
    "scrolled": false
   },
   "outputs": [
    {
     "name": "stdout",
     "output_type": "stream",
     "text": [
      "1/1 [==============================] - 0s 94ms/step\n",
      "following copy email message sent yesterday top ex ...\n",
      "Acutual label:credit_card\n",
      "predicted label:credit_reporting\n",
      "\n",
      "1/1 [==============================] - 0s 108ms/step\n",
      "following detailed account distress frustration we ...\n",
      "Acutual label:mortgages_and_loans\n",
      "predicted label:mortgages_and_loans\n",
      "\n",
      "1/1 [==============================] - 0s 105ms/step\n",
      "following list event occurred national credit syst ...\n",
      "Acutual label:debt_collection\n",
      "predicted label:debt_collection\n",
      "\n",
      "1/1 [==============================] - 0s 109ms/step\n",
      "following list credit card sychrony bank follows c ...\n",
      "Acutual label:credit_card\n",
      "predicted label:credit_card\n",
      "\n",
      "1/1 [==============================] - 0s 98ms/step\n",
      "following short summary complaint filed today flor ...\n",
      "Acutual label:credit_reporting\n",
      "predicted label:credit_reporting\n",
      "\n",
      "1/1 [==============================] - 0s 105ms/step\n",
      "following timeline event detailing issue complaint ...\n",
      "Acutual label:credit_reporting\n",
      "predicted label:credit_reporting\n",
      "\n",
      "1/1 [==============================] - 0s 96ms/step\n",
      "following timeline event detailing issue complaint ...\n",
      "Acutual label:credit_reporting\n",
      "predicted label:credit_reporting\n",
      "\n",
      "1/1 [==============================] - 0s 131ms/step\n",
      "following timeline event detailing issue complaint ...\n",
      "Acutual label:credit_reporting\n",
      "predicted label:credit_reporting\n",
      "\n",
      "1/1 [==============================] - 0s 110ms/step\n",
      "following incorrect personal information please re ...\n",
      "Acutual label:credit_reporting\n",
      "predicted label:credit_reporting\n",
      "\n",
      "1/1 [==============================] - 0s 113ms/step\n",
      "following incorrect personal information please re ...\n",
      "Acutual label:credit_reporting\n",
      "predicted label:credit_reporting\n",
      "\n",
      "1/1 [==============================] - 0s 110ms/step\n",
      "following incorrect personal information please re ...\n",
      "Acutual label:credit_reporting\n",
      "predicted label:credit_reporting\n",
      "\n",
      "1/1 [==============================] - 0s 119ms/step\n",
      "following sent never took loan told numerous time  ...\n",
      "Acutual label:debt_collection\n",
      "predicted label:debt_collection\n",
      "\n",
      "1/1 [==============================] - 0s 102ms/step\n",
      "following preparing send hrrg failed attempt work  ...\n",
      "Acutual label:debt_collection\n",
      "predicted label:debt_collection\n",
      "\n",
      "1/1 [==============================] - 0s 178ms/step\n",
      "following issue amazon chase visa specifically rel ...\n",
      "Acutual label:credit_card\n",
      "predicted label:credit_card\n",
      "\n",
      "1/1 [==============================] - 0s 124ms/step\n",
      "following item properly investigated requested num ...\n",
      "Acutual label:credit_reporting\n",
      "predicted label:credit_reporting\n",
      "\n",
      "1/1 [==============================] - 0s 145ms/step\n",
      "following item properly investigated requested num ...\n",
      "Acutual label:credit_reporting\n",
      "predicted label:credit_reporting\n",
      "\n",
      "1/1 [==============================] - 0s 110ms/step\n",
      "following item incorrectly reporting incorrect add ...\n",
      "Acutual label:credit_reporting\n",
      "predicted label:credit_reporting\n",
      "\n",
      "1/1 [==============================] - 0s 125ms/step\n",
      "following item incorrectly reporting incorrect add ...\n",
      "Acutual label:credit_reporting\n",
      "predicted label:credit_reporting\n",
      "\n",
      "1/1 [==============================] - 0s 105ms/step\n",
      "following item incorrectly reporting incorrect add ...\n",
      "Acutual label:credit_reporting\n",
      "predicted label:credit_reporting\n",
      "\n",
      "1/1 [==============================] - 0s 112ms/step\n",
      "following item incorrectly reporting credit file d ...\n",
      "Acutual label:credit_reporting\n",
      "predicted label:credit_reporting\n",
      "\n",
      "1/1 [==============================] - 0s 117ms/step\n",
      "following item incorrectly reporting credit file d ...\n",
      "Acutual label:credit_reporting\n",
      "predicted label:credit_reporting\n",
      "\n",
      "1/1 [==============================] - 0s 133ms/step\n",
      "following item mine bal account account result ide ...\n",
      "Acutual label:credit_reporting\n",
      "predicted label:credit_reporting\n",
      "\n",
      "1/1 [==============================] - 0s 112ms/step\n",
      "following item mine bal account account result ide ...\n",
      "Acutual label:credit_reporting\n",
      "predicted label:credit_reporting\n",
      "\n",
      "1/1 [==============================] - 0s 108ms/step\n",
      "following item reporting either inaccurately resul ...\n",
      "Acutual label:credit_reporting\n",
      "predicted label:credit_reporting\n",
      "\n",
      "1/1 [==============================] - 0s 109ms/step\n",
      "following item reporting either inaccurately resul ...\n",
      "Acutual label:credit_reporting\n",
      "predicted label:credit_reporting\n",
      "\n",
      "1/1 [==============================] - 0s 114ms/step\n",
      "following item reporting inaccurately credit file  ...\n",
      "Acutual label:credit_reporting\n",
      "predicted label:credit_reporting\n",
      "\n",
      "1/1 [==============================] - 0s 114ms/step\n",
      "following item reporting inaccurately credit file  ...\n",
      "Acutual label:credit_reporting\n",
      "predicted label:credit_reporting\n",
      "\n",
      "1/1 [==============================] - 0s 126ms/step\n",
      "following item reporting inaccurately credit file  ...\n",
      "Acutual label:credit_reporting\n",
      "predicted label:credit_reporting\n",
      "\n",
      "1/1 [==============================] - 0s 105ms/step\n",
      "following item reporting inaccurately credit file  ...\n",
      "Acutual label:credit_reporting\n",
      "predicted label:credit_reporting\n",
      "\n",
      "1/1 [==============================] - 0s 133ms/step\n",
      "following item reporting inaccurately credit file  ...\n",
      "Acutual label:credit_reporting\n",
      "predicted label:credit_reporting\n",
      "\n",
      "1/1 [==============================] - 0s 133ms/step\n",
      "following item reporting incorrect late status cre ...\n",
      "Acutual label:credit_reporting\n",
      "predicted label:credit_reporting\n",
      "\n",
      "1/1 [==============================] - 0s 122ms/step\n",
      "following item reporting incorrectly credit report ...\n",
      "Acutual label:credit_reporting\n",
      "predicted label:credit_reporting\n",
      "\n",
      "1/1 [==============================] - 0s 106ms/step\n",
      "following item reporting credit file incorrectly i ...\n",
      "Acutual label:credit_reporting\n",
      "predicted label:credit_reporting\n",
      "\n",
      "1/1 [==============================] - 0s 109ms/step\n",
      "following item listed credit report belong account ...\n",
      "Acutual label:debt_collection\n",
      "predicted label:credit_reporting\n",
      "\n",
      "1/1 [==============================] - 0s 176ms/step\n",
      "following letter mailed equifax reply letter confi ...\n",
      "Acutual label:credit_reporting\n",
      "predicted label:credit_reporting\n",
      "\n",
      "1/1 [==============================] - 0s 108ms/step\n",
      "following message request sent credit card company ...\n",
      "Acutual label:credit_card\n",
      "predicted label:credit_card\n",
      "\n",
      "1/1 [==============================] - 0s 114ms/step\n",
      "following occurred account balance went charged ba ...\n",
      "Acutual label:retail_banking\n",
      "predicted label:retail_banking\n",
      "\n",
      "1/1 [==============================] - 0s 107ms/step\n",
      "following party acted capacity debt collector refi ...\n",
      "Acutual label:debt_collection\n",
      "predicted label:debt_collection\n",
      "\n",
      "1/1 [==============================] - 0s 111ms/step\n",
      "following party acted capacity debt collector refi ...\n",
      "Acutual label:debt_collection\n",
      "predicted label:debt_collection\n",
      "\n",
      "1/1 [==============================] - 0s 109ms/step\n",
      "following party acted capacity debt collector refi ...\n",
      "Acutual label:debt_collection\n",
      "predicted label:debt_collection\n",
      "\n",
      "1/1 [==============================] - 0s 103ms/step\n",
      "following personal information requesting promptly ...\n",
      "Acutual label:debt_collection\n",
      "predicted label:credit_reporting\n",
      "\n",
      "1/1 [==============================] - 0s 121ms/step\n",
      "following pertains well fargo cd roughly cd mature ...\n",
      "Acutual label:retail_banking\n",
      "predicted label:retail_banking\n",
      "\n",
      "1/1 [==============================] - 0s 111ms/step\n",
      "following phone number call numerous time per day  ...\n",
      "Acutual label:mortgages_and_loans\n",
      "predicted label:debt_collection\n",
      "\n",
      "1/1 [==============================] - 0s 109ms/step\n",
      "following phone number listed chexsystems report p ...\n",
      "Acutual label:credit_reporting\n",
      "predicted label:credit_reporting\n",
      "\n",
      "1/1 [==============================] - 0s 109ms/step\n",
      "following recount series event concerning wrongful ...\n",
      "Acutual label:retail_banking\n",
      "predicted label:retail_banking\n",
      "\n",
      "1/1 [==============================] - 0s 109ms/step\n",
      "following reported information listed chex system  ...\n",
      "Acutual label:credit_reporting\n",
      "predicted label:credit_reporting\n",
      "\n",
      "1/1 [==============================] - 0s 115ms/step\n",
      "following reported information chex system consume ...\n",
      "Acutual label:credit_reporting\n",
      "predicted label:credit_reporting\n",
      "\n",
      "1/1 [==============================] - 0s 113ms/step\n",
      "following show several account opened name social  ...\n",
      "Acutual label:credit_reporting\n",
      "predicted label:credit_reporting\n",
      "\n"
     ]
    },
    {
     "name": "stdout",
     "output_type": "stream",
     "text": [
      "1/1 [==============================] - 0s 103ms/step\n",
      "following show several account opened name social  ...\n",
      "Acutual label:credit_reporting\n",
      "predicted label:credit_reporting\n",
      "\n",
      "1/1 [==============================] - 0s 93ms/step\n",
      "following show several account opened name social  ...\n",
      "Acutual label:credit_reporting\n",
      "predicted label:credit_reporting\n",
      "\n"
     ]
    }
   ],
   "source": [
    "# here is how to generate a prediction on individual example\n",
    "text_labels = encoder.classes_\n",
    "\n",
    "for i in range(50):\n",
    "    prediction = model.predict(np.array([X_test[i]]))\n",
    "    prediction_label = text_labels[np.argmax(prediction)]\n",
    "    print(test_narrative.iloc[i][:50], \"...\")\n",
    "    print('Acutual label:' + test_product.iloc[i])\n",
    "    print('predicted label:' + prediction_label + '\\n')"
   ]
  },
  {
   "cell_type": "code",
   "execution_count": null,
   "id": "93a65d8f",
   "metadata": {},
   "outputs": [],
   "source": []
  }
 ],
 "metadata": {
  "kernelspec": {
   "display_name": "Python 3 (ipykernel)",
   "language": "python",
   "name": "python3"
  },
  "language_info": {
   "codemirror_mode": {
    "name": "ipython",
    "version": 3
   },
   "file_extension": ".py",
   "mimetype": "text/x-python",
   "name": "python",
   "nbconvert_exporter": "python",
   "pygments_lexer": "ipython3",
   "version": "3.9.13"
  }
 },
 "nbformat": 4,
 "nbformat_minor": 5
}
